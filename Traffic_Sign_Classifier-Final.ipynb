{
 "cells": [
  {
   "cell_type": "markdown",
   "metadata": {
    "deletable": true,
    "editable": true
   },
   "source": [
    "# Project: Traffic Sign Recognition Classifier\n",
    "### Author: Aneeq Mahmood\n",
    "### Email: aneeq.sdc@gmail.com\n",
    "\n"
   ]
  },
  {
   "cell_type": "markdown",
   "metadata": {
    "deletable": true,
    "editable": true
   },
   "source": [
    "---\n",
    "## Cell 1: Load The Data"
   ]
  },
  {
   "cell_type": "code",
   "execution_count": 1,
   "metadata": {
    "collapsed": false,
    "deletable": true,
    "editable": true
   },
   "outputs": [
    {
     "name": "stdout",
     "output_type": "stream",
     "text": [
      "finsihed\n"
     ]
    }
   ],
   "source": [
    "import os\n",
    "import matplotlib.pyplot as plt\n",
    "import numpy as np\n",
    "import pickle as pk\n",
    "from sklearn.utils import shuffle\n",
    "\n",
    "\n",
    "# Load pickled data\n",
    "image_dir = \"traffic-signs-data/\"            # Specify images directory\n",
    "image_files = [\"train.p\",\"valid.p\",\"test.p\"]  # Specify training, validation, and test data\n",
    "\n",
    "\n",
    "training_file = image_dir+image_files[0]\n",
    "validation_file= image_dir+image_files[1]\n",
    "testing_file = image_dir+image_files[2]\n",
    "\n",
    "\n",
    "with (open(training_file, mode='rb')) as f:\n",
    "    train = pk.load(f)\n",
    "with open(validation_file, mode='rb') as f:\n",
    "    valid = pk.load(f)\n",
    "with open(testing_file, mode='rb') as f:\n",
    "    test = pk.load(f)\n",
    "    \n",
    "X_train_normal, y_train = train['features'], train['labels']\n",
    "X_valid_normal, y_valid = valid['features'], valid['labels']\n",
    "X_test_normal, y_test = test['features'], test['labels']\n",
    "\n",
    "# converting all data to float32\n",
    "X_train_normal = X_train_normal.astype(np.float32, copy=False)\n",
    "X_valid_normal = X_valid_normal.astype(np.float32, copy=False)\n",
    "X_test_normal = X_test_normal.astype(np.float32, copy=False)\n",
    "\n",
    "X_train = np.copy(X_train_normal)\n",
    "X_valid = np.copy(X_valid_normal)\n",
    "X_test = np.copy(X_test_normal)\n",
    "\n",
    "print('finsihed')"
   ]
  },
  {
   "cell_type": "markdown",
   "metadata": {
    "deletable": true,
    "editable": true
   },
   "source": [
    "---\n",
    "\n",
    "## Cell 1: Dataset Summary & Exploration\n",
    "### Providing a Basic Summary of the Data Set Using Python, Numpy\n",
    "\n"
   ]
  },
  {
   "cell_type": "code",
   "execution_count": 2,
   "metadata": {
    "collapsed": false,
    "deletable": true,
    "editable": true
   },
   "outputs": [
    {
     "name": "stdout",
     "output_type": "stream",
     "text": [
      "Number of training examples = 34799\n",
      "Number of testing examples = 12630\n",
      "Image data shape = (32, 32, 3)\n",
      "Number of classes = 43\n"
     ]
    }
   ],
   "source": [
    "\n",
    "##  Number of training examples\n",
    "n_train = len(X_train)\n",
    "\n",
    "##  Number of testing examples.\n",
    "n_test = len(X_test)\n",
    "\n",
    "##  Number of valid examples.\n",
    "n_valid = len(X_valid)\n",
    "\n",
    "## The shape of an traffic sign image?\n",
    "image_shape = X_train[0].shape\n",
    "\n",
    "## unique classes/labels there are in the dataset.\n",
    "\n",
    "n_classes = len(np.unique(y_train))\n",
    "\n",
    "print(\"Number of training examples =\", n_train)\n",
    "print(\"Number of testing examples =\", n_test)\n",
    "print(\"Image data shape =\", image_shape)\n",
    "print(\"Number of classes =\", n_classes)"
   ]
  },
  {
   "cell_type": "markdown",
   "metadata": {
    "deletable": true,
    "editable": true
   },
   "source": [
    "## Cell 2: Visualize Data\n",
    "\n",
    "View a sample from the dataset."
   ]
  },
  {
   "cell_type": "code",
   "execution_count": 3,
   "metadata": {
    "collapsed": false,
    "deletable": true,
    "editable": true
   },
   "outputs": [
    {
     "name": "stdout",
     "output_type": "stream",
     "text": [
      "521\n",
      "31\n"
     ]
    },
    {
     "data": {
      "image/png": "[encoded data removed]",
      "text/plain": [
       "<matplotlib.figure.Figure at 0x7fb6df805e10>"
      ]
     },
     "metadata": {},
     "output_type": "display_data"
    },
    {
     "data": {
      "image/png": "[encoded data removed]",
      "text/plain": [
       "<matplotlib.figure.Figure at 0x7fb71cf872e8>"
      ]
     },
     "metadata": {},
     "output_type": "display_data"
    }
   ],
   "source": [
    "import random\n",
    "import matplotlib.image as mpimg\n",
    "%matplotlib inline  \n",
    "\n",
    "index = random.randint(0, len(X_train))    # Printing random image from training data\n",
    "\n",
    "image = X_train[index].squeeze()\n",
    "print(index)\n",
    "plt.figure()\n",
    "plt.imshow(image)\n",
    "print(y_train[index])                      # Printing class of that particular image\n",
    "\n",
    "plt.figure()\n",
    "_= plt.hist(y_train,43 )                  # Displaying histogram of the class distribution in the training set"
   ]
  },
  {
   "cell_type": "markdown",
   "metadata": {
    "deletable": true,
    "editable": true
   },
   "source": [
    "\n",
    "\n",
    "## Cell 3: Model of the ConvNet\n",
    "\n"
   ]
  },
  {
   "cell_type": "markdown",
   "metadata": {
    "deletable": true,
    "editable": true
   },
   "source": [
    "### Cell 3a: Pre-process the Data Set (normalization)\n",
    "Normalize RGB images between -1 and +1"
   ]
  },
  {
   "cell_type": "code",
   "execution_count": 4,
   "metadata": {
    "collapsed": false,
    "deletable": true,
    "editable": true
   },
   "outputs": [
    {
     "name": "stdout",
     "output_type": "stream",
     "text": [
      "521\n",
      "31\n"
     ]
    },
    {
     "data": {
      "image/png": "[encoded data removed]",
      "text/plain": [
       "<matplotlib.figure.Figure at 0x7fb6d6e42390>"
      ]
     },
     "metadata": {},
     "output_type": "display_data"
    }
   ],
   "source": [
    "from sklearn.utils import shuffle\n",
    "\n",
    "# Normalizing the traiing data\n",
    "for q in range(len(X_train)):\n",
    "    X_train[q][:,:,0] = (X_train_normal[q][:,:,0] - 128)/128.\n",
    "    X_train[q][:,:,1] = (X_train_normal[q][:,:,1] - 128)/128.\n",
    "    X_train[q][:,:,2] = (X_train_normal[q][:,:,2] - 128)/128.\n",
    "\n",
    "# Display the preprocessed image, use the same image which was plotted under Cell 2\n",
    "print(index)\n",
    "image = X_train[index].squeeze()\n",
    "print(y_train[index])\n",
    "plt.figure()\n",
    "plt.imshow(image)\n",
    "\n",
    "X_train, y_train = shuffle(X_train, y_train)\n",
    "\n",
    "# Doing the same for validation and test data\n",
    "for q in range(len(X_valid)):\n",
    "    X_valid[q][:,:,0] = (X_valid_normal[q][:,:,0] - 128)/128\n",
    "    X_valid[q][:,:,1] = (X_valid_normal[q][:,:,1] - 128)/128\n",
    "    X_valid[q][:,:,2] = (X_valid_normal[q][:,:,2] - 128)/128\n",
    "\n",
    "for q in range(len(X_test)):\n",
    "    X_test[q][:,:,0] = (X_test_normal[q][:,:,0] - 128)/128\n",
    "    X_test[q][:,:,1] = (X_test_normal[q][:,:,1] - 128)/128\n",
    "    X_test[q][:,:,2] = (X_test_normal[q][:,:,2] - 128)/128"
   ]
  },
  {
   "cell_type": "markdown",
   "metadata": {
    "deletable": true,
    "editable": true
   },
   "source": [
    "### Cell 3b: Setup TensorFlow"
   ]
  },
  {
   "cell_type": "code",
   "execution_count": 5,
   "metadata": {
    "collapsed": false,
    "deletable": true,
    "editable": true
   },
   "outputs": [
    {
     "name": "stdout",
     "output_type": "stream",
     "text": [
      "Done\n"
     ]
    }
   ],
   "source": [
    "import tensorflow as tf\n",
    "\n",
    "BATCH_SIZE = 64\n",
    "rate = 0.001\n",
    "print(\"Done\")"
   ]
  },
  {
   "cell_type": "markdown",
   "metadata": {
    "deletable": true,
    "editable": true
   },
   "source": [
    "### Cell 3c:  Convnet based on Yann Lecun's LeNet\n",
    "\n",
    "The network mode l is based on Yann LeCun's 1998 paper; the filters and details within different layers have been modified to fit the model requirements, and match inputs and ouputs. The details are present in the writeup"
   ]
  },
  {
   "cell_type": "code",
   "execution_count": 6,
   "metadata": {
    "collapsed": false,
    "deletable": true,
    "editable": true
   },
   "outputs": [],
   "source": [
    "from tensorflow.contrib.layers import flatten\n",
    "\n",
    "\n",
    "\n",
    "def LeNet(x, keep_prob):    \n",
    "    \"\"\"\n",
    "    x : training data\n",
    "    keep_prob : probability for keeping weights, used in dropoffs\n",
    "    \"\"\"\n",
    "    \n",
    "    # Arguments used for tf.truncated_normal, randomly defines variables for the weights and biases for each layer\n",
    "    mu = 0\n",
    "    sigma = 0.1\n",
    "    \n",
    "    # SOLUTION: Layer 1: Convolutional. Input = 32x32x3. Output = 28x28x6.\n",
    "    conv1_W = tf.Variable(tf.truncated_normal(shape=(5, 5, 3, 6), mean = mu, stddev = sigma))\n",
    "    conv1_b = tf.Variable(tf.zeros(6))    # bias\n",
    "    conv1   = tf.nn.conv2d(x, conv1_W, strides=[1, 1, 1, 1], padding='VALID',name='con1') + conv1_b\n",
    "\n",
    "    # SOLUTION: Activation.\n",
    "    conv1 = tf.nn.relu(conv1,name='con1r')\n",
    "\n",
    "    # SOLUTION: Pooling. Input = 28x28x6. Output = 14x14x6.\n",
    "    conv1 = tf.nn.max_pool(conv1, ksize=[1, 2, 2, 1], strides=[1, 2, 2, 1], padding='VALID',name='con1rp')\n",
    "\n",
    "    # SOLUTION: Layer 2: Convolutional. Inputput = 14x14x6 ;  Output = 10x10x16.\n",
    "    conv2_W = tf.Variable(tf.truncated_normal(shape=(5, 5, 6, 16), mean = mu, stddev = sigma))\n",
    "    conv2_b = tf.Variable(tf.zeros(16))\n",
    "    conv2   = tf.nn.conv2d(conv1, conv2_W, strides=[1, 1, 1, 1], padding='VALID',name='con2') + conv2_b\n",
    "    \n",
    "    # SOLUTION: Activation.\n",
    "    conv2 = tf.nn.relu(conv2,name='con2r')\n",
    "\n",
    "    # SOLUTION: Pooling. Input = 10x10x16. Output = 5x5x16.\n",
    "    conv2 = tf.nn.max_pool(conv2, ksize=[1, 2, 2, 1], strides=[1, 2, 2, 1], padding='VALID',name='con2rp')\n",
    "\n",
    "    # SOLUTION: Flatten. Input = 5x5x16. Output = 400.\n",
    "    fc0   = flatten(conv2)\n",
    "    \n",
    "    # SOLUTION: Layer 3: Fully Connected. Input = 400. Output = 120.\n",
    "    fc1_W = tf.Variable(tf.truncated_normal(shape=(400, 120), mean = mu, stddev = sigma))\n",
    "    fc1_b = tf.Variable(tf.zeros(120))\n",
    "    fc1   = tf.matmul(fc0, fc1_W) + fc1_b\n",
    "    \n",
    "    # SOLUTION: Activation. followed by dropout\n",
    "    fc1    = tf.nn.relu(fc1,name='fc1')\n",
    "    fc1 = tf.nn.dropout(fc1, keep_prob)\n",
    "    \n",
    "    # SOLUTION: Layer 4: Fully Connected. Input = 120. Output = 84.\n",
    "    fc2_W  = tf.Variable(tf.truncated_normal(shape=(120, 84), mean = mu, stddev = sigma))\n",
    "    fc2_b  = tf.Variable(tf.zeros(84))\n",
    "    fc2    = tf.matmul(fc1, fc2_W) + fc2_b\n",
    "    \n",
    "    # SOLUTION: Activation.\n",
    "    fc2    = tf.nn.relu(fc2,name='fc2')\n",
    "    fc2 = tf.nn.dropout(fc2, keep_prob)\n",
    "    # SOLUTION: Layer 5: Fully Connected. Input = 84. Output = 43.\n",
    "    fc3_W  = tf.Variable(tf.truncated_normal(shape=(84, n_classes), mean = mu, stddev = sigma))\n",
    "    fc3_b  = tf.Variable(tf.zeros(n_classes))\n",
    "    logits = tf.matmul(fc2, fc3_W) + fc3_b\n",
    "    # returning logits\n",
    "    return logits"
   ]
  },
  {
   "cell_type": "markdown",
   "metadata": {
    "deletable": true,
    "editable": true
   },
   "source": [
    "### Cell 3d:  placeholders, optimizer, and other variables"
   ]
  },
  {
   "cell_type": "code",
   "execution_count": 7,
   "metadata": {
    "collapsed": true,
    "deletable": true,
    "editable": true
   },
   "outputs": [],
   "source": [
    "x = tf.placeholder(tf.float32, (None, 32, 32, 3))\n",
    "y = tf.placeholder(tf.int32, (None))\n",
    "keep_prob = tf.placeholder(tf.float32)\n",
    "one_hot_y = tf.one_hot(y, n_classes)    #  One hot vetor\"s length matches number of classes\n",
    "\n",
    "\n",
    "\n",
    "logits = LeNet(x,keep_prob)\n",
    "cross_entropy = tf.nn.softmax_cross_entropy_with_logits(logits, one_hot_y)\n",
    "loss_operation = tf.reduce_mean(cross_entropy)\n",
    "\n",
    "# Using Adam optimizer\n",
    "optimizer = tf.train.AdamOptimizer(learning_rate = rate)\n",
    "training_operation = optimizer.minimize(loss_operation)\n"
   ]
  },
  {
   "cell_type": "markdown",
   "metadata": {
    "deletable": true,
    "editable": true
   },
   "source": [
    "### Cell 3e:  Model Evaluation Subroutine\n",
    "Evaluate how well the loss and accuracy of the model for a given dataset.\n",
    "\n"
   ]
  },
  {
   "cell_type": "code",
   "execution_count": 83,
   "metadata": {
    "collapsed": true,
    "deletable": true,
    "editable": true
   },
   "outputs": [],
   "source": [
    "correct_prediction = tf.equal(tf.argmax(logits, 1), tf.argmax(one_hot_y, 1))\n",
    "accuracy_operation = tf.reduce_mean(tf.cast(correct_prediction, tf.float32))\n",
    "saver = tf.train.Saver()   # Variable for saving tensorflow session\n",
    "\n",
    "\n",
    "# Create a summary to monitor cost tensor\n",
    "tf.summary.scalar(\"loss\", loss_operation)\n",
    "# Create a summary to monitor accuracy tensor\n",
    "tf.summary.scalar(\"accuracy\", accuracy_operation)\n",
    "# Merge all summaries into a single op\n",
    "merged_summary_op = tf.summary.merge_all()\n",
    "\n",
    "\n",
    "def evaluate(X_data, y_data):\n",
    "    \"\"\"\n",
    "    X_data:   Input images\n",
    "    y_label:   Labels for the input images\n",
    "    \"\"\"\n",
    "    num_examples = len(X_data)\n",
    " \n",
    "    total_accuracy = 0\n",
    "    avg_cost =  0\n",
    "    sess = tf.get_default_session()\n",
    "    total_batches = int( num_examples / BATCH_SIZE )\n",
    "    if (total_batches == 0): \n",
    "        total_batches = 1.0\n",
    "    for offset in range(0, num_examples, BATCH_SIZE):\n",
    "        \n",
    "        batch_x, batch_y = X_data[offset:offset+BATCH_SIZE], y_data[offset:offset+BATCH_SIZE]\n",
    "        _,a,c,summary = sess.run([training_operation , accuracy_operation, loss_operation, merged_summary_op], feed_dict={x: batch_x, y: batch_y, keep_prob: 1})\n",
    "        total_accuracy += (a * len(batch_x))\n",
    "        avg_cost += c \n",
    "    return total_accuracy/num_examples, avg_cost/total_batches,total_accuracy\n"
   ]
  },
  {
   "cell_type": "markdown",
   "metadata": {
    "deletable": true,
    "editable": true
   },
   "source": [
    "### Cell 3f: Run the model on training data"
   ]
  },
  {
   "cell_type": "code",
   "execution_count": 9,
   "metadata": {
    "collapsed": false,
    "deletable": true,
    "editable": true
   },
   "outputs": [
    {
     "name": "stdout",
     "output_type": "stream",
     "text": [
      "Training...\n",
      "EPOCH 1 ...\n",
      "Training Loss = 1.325\n",
      "Validation Loss = 2.935\n",
      "Training Accuracy = 0.631\n",
      "Validation Accuracy = 0.227\n",
      "\n",
      "EPOCH 11 ...\n",
      "Training Loss = 0.099\n",
      "Validation Loss = 0.222\n",
      "Training Accuracy = 0.975\n",
      "Validation Accuracy = 0.938\n",
      "\n",
      "EPOCH 21 ...\n",
      "Training Loss = 0.054\n",
      "Validation Loss = 0.045\n",
      "Training Accuracy = 0.986\n",
      "Validation Accuracy = 0.987\n",
      "\n",
      "Model saved\n"
     ]
    }
   ],
   "source": [
    "# Number fo epochs to run\n",
    "EPOCHS = 30\n",
    "\n",
    "\n",
    "with tf.Session() as sess:\n",
    "    sess.run(tf.global_variables_initializer())\n",
    "    num_examples = len(X_train)\n",
    "#    saver.restore(sess, tf.train.latest_checkpoint('.'))\n",
    "   \n",
    "    print(\"Training...\")\n",
    "   \n",
    "    tl = []\n",
    "    ta = []\n",
    "    vl = [] \n",
    "    va = [] \n",
    "    for i in range(EPOCHS):\n",
    "        \n",
    "        X_train, y_train = shuffle(X_train, y_train)\n",
    "        loss_p_epoch = 0.0         # training loss per epoch\n",
    "        acc_p_epoch = 0.0          # training accuracy per epoch\n",
    "        total_batches = int( num_examples / BATCH_SIZE )\n",
    "        for offset in range(0, num_examples, BATCH_SIZE):\n",
    "            end = offset + BATCH_SIZE\n",
    "            batch_x, batch_y = X_train[offset:end], y_train[offset:end]\n",
    "            _, a,c,summary = sess.run([training_operation , accuracy_operation, loss_operation, merged_summary_op], feed_dict={x: batch_x, y: batch_y, keep_prob: 1})\n",
    "            \n",
    "            loss_p_epoch += c \n",
    "            acc_p_epoch  += (a * BATCH_SIZE)\n",
    "   \n",
    "        validation_accuracy, valid_loss,_ = evaluate(X_valid, y_valid)\n",
    "    \n",
    "        if (i % 10 == 0):\n",
    "            print(\"EPOCH {} ...\".format(i+1))\n",
    "            print(\"Training Loss = {:.3f}\".format(loss_p_epoch/total_batches))\n",
    "            print(\"Validation Loss = {:.3f}\".format(valid_loss))\n",
    "            print(\"Training Accuracy = {:.3f}\".format(acc_p_epoch/num_examples))\n",
    "            print(\"Validation Accuracy = {:.3f}\".format(validation_accuracy))\n",
    "            print()\n",
    "        tl.append(loss_p_epoch/total_batches)\n",
    "        vl.append(valid_loss)\n",
    "        ta.append(acc_p_epoch/num_examples)\n",
    "        va.append(validation_accuracy)\n",
    "    \n",
    "    np.savez(\"res_rn\",tl,vl,ta,va,EPOCHS)\n",
    "    saver.save(sess, './raw_dataa')\n",
    "\n",
    "    print(\"Model saved\")\n",
    "\n",
    "\n"
   ]
  },
  {
   "cell_type": "code",
   "execution_count": null,
   "metadata": {
    "collapsed": true,
    "deletable": true,
    "editable": true
   },
   "outputs": [],
   "source": []
  },
  {
   "cell_type": "markdown",
   "metadata": {
    "deletable": true,
    "editable": true
   },
   "source": [
    "### Cell 3g: Plotting Results for a fixed batch size and learning rate on initial data set for a fixed batch size"
   ]
  },
  {
   "cell_type": "code",
   "execution_count": 10,
   "metadata": {
    "collapsed": false,
    "deletable": true,
    "editable": true
   },
   "outputs": [
    {
     "data": {
      "text/plain": [
       "<matplotlib.figure.Figure at 0x7fb65bc74e48>"
      ]
     },
     "metadata": {},
     "output_type": "display_data"
    },
    {
     "data": {
      "text/plain": [
       "<matplotlib.legend.Legend at 0x7fb6542faf60>"
      ]
     },
     "execution_count": 10,
     "metadata": {},
     "output_type": "execute_result"
    },
    {
     "data": {
      "image/png": "[encoded data removed]",
      "text/plain": [
       "<matplotlib.figure.Figure at 0x7fb6df7daeb8>"
      ]
     },
     "metadata": {},
     "output_type": "display_data"
    },
    {
     "data": {
      "image/png": "[encoded data removed]",
      "text/plain": [
       "<matplotlib.figure.Figure at 0x7fb6542dabe0>"
      ]
     },
     "metadata": {},
     "output_type": "display_data"
    }
   ],
   "source": [
    "plt.figure()\n",
    "plt.show()\n",
    "plt.plot(tl, label='Training Loss')\n",
    "plt.plot(vl, label='Validation Loss')\n",
    "plt.legend(loc='upper right')\n",
    "plt.grid()\n",
    "\n",
    "fig = plt.figure()                                                               \n",
    "ax = fig.add_subplot(1,1,1)                                                      \n",
    "\n",
    "# major ticks and minor ticks settings                                     \n",
    "major_ticks = np.arange(0, 1, .05)                                              \n",
    "minor_ticks = np.arange(0, 1, .05)                                                                                      \n",
    "ax.set_yticks(major_ticks)                                                       \n",
    "ax.set_yticks(minor_ticks, minor=True)                                           \n",
    "\n",
    "# and a corresponding grid                                                       \n",
    "\n",
    "ax.grid(which='both')                                                            \n",
    "\n",
    "# or if you want differnet settings for the grids:                               \n",
    "ax.grid(which='minor', alpha=0.2)                                                \n",
    "ax.grid(which='major', alpha=0.5)\n",
    "ax.plot(ta, label='Training Loss')\n",
    "ax.plot(va, label='Validation Loss')\n",
    "ax.legend(loc='lower right')"
   ]
  },
  {
   "cell_type": "markdown",
   "metadata": {
    "deletable": true,
    "editable": true
   },
   "source": [
    "### Cell 3e: Final accuracy on test data"
   ]
  },
  {
   "cell_type": "code",
   "execution_count": 11,
   "metadata": {
    "collapsed": false,
    "deletable": true,
    "editable": true
   },
   "outputs": [
    {
     "name": "stdout",
     "output_type": "stream",
     "text": [
      "Test Accuracy = 0.954\n"
     ]
    }
   ],
   "source": [
    "with tf.Session() as sess:    \n",
    "    sess.run(tf.global_variables_initializer())\n",
    "    saver.restore(sess, './raw_dataa' )\n",
    "    test_accuracy,m,_ = evaluate(X_test, y_test)\n",
    "    print(\"Test Accuracy = {:.3f}\".format(test_accuracy))"
   ]
  },
  {
   "cell_type": "markdown",
   "metadata": {
    "deletable": true,
    "editable": true
   },
   "source": [
    "---\n",
    "\n",
    "## Cell 4: Data Augmentation\n",
    " As shown in the above plots and cell 3e, although accuracy on test data is very high but there is an obvious case for overfitting. To avoid this issue, data augmentation will be carried out. \n",
    " \n"
   ]
  },
  {
   "cell_type": "markdown",
   "metadata": {
    "deletable": true,
    "editable": true
   },
   "source": [
    "\n",
    "## Cell 4a: Data Augmentation Library\n",
    "\n",
    "Library for data augmentation, used for this work, is here\n",
    "\n",
    "https://github.com/aleju/imgaug\n",
    " "
   ]
  },
  {
   "cell_type": "code",
   "execution_count": 12,
   "metadata": {
    "collapsed": true,
    "deletable": true,
    "editable": true
   },
   "outputs": [],
   "source": [
    "def aug_img(image,class_val):\n",
    "    \n",
    "\n",
    "\n",
    "\n",
    "    img_bgr = cv2.cvtColor(np.squeeze(image),cv2.COLOR_RGB2BGR)\n",
    "    \n",
    "    \n",
    "    #  Add gaussian blur\n",
    "    gauss_blur = iaa.AdditiveGaussianNoise(loc=0, scale=(0, 0.2), per_channel=0.5) # always horizontally flip each input image\n",
    "    img_aug01 = gauss_blur.augment_image(img_bgr) # horizontally flip image 0\n",
    "    \n",
    "    # add brightness\n",
    "    add_brightness = iaa.Add((-3, 3), per_channel=0.5)\n",
    "    img_aug1 = add_brightness.augment_image(img_aug01)\n",
    "   \n",
    "     # add sharpness\n",
    "    add_sharp = iaa.Sharpen(alpha=(0, 1.0), strength=(0.75, 1.5))\n",
    "    img_aug2 = add_sharp.augment_image(img_aug1)\n",
    "    \n",
    "    # add contract normlaization\n",
    "    rot = iaa.ContrastNormalization((0.5, 2.0), per_channel=0.5)\n",
    "    img_aug = rot.augment_image(img_aug2)\n",
    "    \n",
    "\n",
    "    \n",
    "    dest = cv2.cvtColor(img_aug,cv2.COLOR_BGR2RGB)\n",
    "#    print(np.shape(dest))\n",
    "    \n",
    "    \n",
    "    \n",
    "    \n",
    "#    plt.figure()\n",
    "#    plt.imshow(dest)\n",
    "#    \n",
    "#    \n",
    "#    print(np.all((image-dest)==0))\n",
    "    return dest ,class_val"
   ]
  },
  {
   "cell_type": "markdown",
   "metadata": {
    "deletable": true,
    "editable": true
   },
   "source": [
    "\n",
    "## Cell 4b: Creating Augemented images"
   ]
  },
  {
   "cell_type": "code",
   "execution_count": 13,
   "metadata": {
    "collapsed": false,
    "deletable": true,
    "editable": true
   },
   "outputs": [
    {
     "name": "stdout",
     "output_type": "stream",
     "text": [
      "Number of training data = 76339\n"
     ]
    },
    {
     "data": {
      "image/png": "[encoded data removed]",
      "text/plain": [
       "<matplotlib.figure.Figure at 0x7fb6542321d0>"
      ]
     },
     "metadata": {},
     "output_type": "display_data"
    },
    {
     "data": {
      "image/png": "[encoded data removed]",
      "text/plain": [
       "<matplotlib.figure.Figure at 0x7fb6542375f8>"
      ]
     },
     "metadata": {},
     "output_type": "display_data"
    }
   ],
   "source": [
    "import matplotlib.pyplot as plt\n",
    "import matplotlib.gridspec as gridspec\n",
    "import cv2\n",
    "import skimage\n",
    "\n",
    "# get older data\n",
    "X_train, y_train = train['features'], train['labels']\n",
    "\n",
    "    \n",
    "freq = []\n",
    "# Get number of occurence of each training label\n",
    "for q in range(n_classes):\n",
    "    freq.append(list(y_train).count(q))\n",
    "\n",
    "\n",
    "aug_mag_new = np.zeros(n_classes)\n",
    "indices = np.zeros(n_classes)\n",
    "\n",
    "# Calculate how many maximum images to be added for a class\n",
    "for a_class in range(n_classes):\n",
    "\n",
    "    # Calculate magnitude of  images to be added for a class\n",
    "    aug_mag = max(freq) - freq[a_class]\n",
    " \n",
    "    # make this number random\n",
    "    aug_mag_new[a_class] = np.ceil((np.random.uniform(0.7 , 0.9))* aug_mag)\n",
    "\n",
    "\n",
    "\n",
    "#Assign meemory for total new images\n",
    "tot =   np.int(np.sum(aug_mag_new))\n",
    "feat  =  list(np.zeros(  (tot, 32,32,3) ) )\n",
    "lab  =  list(np.zeros( tot ))\n",
    "\n",
    "t = 0\n",
    "\n",
    "# Now doing augmentation\n",
    "for h in (range(n_classes)):\n",
    "    \n",
    "    indices = np.where(y_train == h)[0]\n",
    "     \n",
    "    for s in range(np.int(aug_mag_new[h])):  \n",
    "    \n",
    "        val = indices[np.random.randint(0,len(indices))]\n",
    "        #aug_img\n",
    "        feat[t],lab[t]= aug_img(X_train[val],h) \n",
    "        \n",
    "        t += 1\n",
    "        \n",
    "plt.figure()\n",
    "plt.imshow(feat[np.random.randint(0,len(feat))].squeeze())\n",
    "\n",
    "\n",
    "train_feat = np.vstack((X_train,feat))\n",
    "train_lab = np.hstack((y_train,lab))\n",
    "\n",
    "plt.figure()\n",
    "plt.hist(train_lab,43)\n",
    "plt.title(\"Histogram of training data\")\n",
    "\n",
    "#train_feat= np.uint8(train_feat)\n",
    "#train_lab= np.uint8(train_lab)\n",
    "\n",
    "X_train = np.copy(train_feat)\n",
    "y_train = np.copy(train_lab)\n",
    "\n",
    "X_train = np.float32(X_train)\n",
    "y_train = np.int32(y_train)\n",
    "X_train, y_train = shuffle(X_train, y_train)\n",
    "del train_feat\n",
    "del train_lab\n",
    "print(\"Number of training data =\", len(X_train))\n"
   ]
  },
  {
   "cell_type": "code",
   "execution_count": 14,
   "metadata": {
    "collapsed": false,
    "deletable": true,
    "editable": true
   },
   "outputs": [
    {
     "name": "stdout",
     "output_type": "stream",
     "text": [
      "Done\n"
     ]
    }
   ],
   "source": [
    "X_train = np.float32(X_train)\n",
    "X_train_normal = np.copy(X_train)\n",
    "# Normalizing the training data\n",
    "for q in range(len(X_train)):\n",
    "    X_train[q][:,:,0] = (X_train_normal[q][:,:,0] - 128)/128.\n",
    "    X_train[q][:,:,1] = (X_train_normal[q][:,:,1] - 128)/128.\n",
    "    X_train[q][:,:,2] = (X_train_normal[q][:,:,2] - 128)/128.\n",
    "\n",
    "print(\"Done\")\n"
   ]
  },
  {
   "cell_type": "markdown",
   "metadata": {
    "deletable": true,
    "editable": true
   },
   "source": [
    "\n",
    "## Cell 5: Training with augmented data"
   ]
  },
  {
   "cell_type": "code",
   "execution_count": 46,
   "metadata": {
    "collapsed": false,
    "deletable": true,
    "editable": true
   },
   "outputs": [
    {
     "name": "stdout",
     "output_type": "stream",
     "text": [
      "Training with new data and activating dropoffs...\n",
      "EPOCH 1 ...\n",
      "Training Loss = 2.552\n",
      "Validation Loss = 1.670\n",
      "Training Accuracy = 0.301\n",
      "Validation Accuracy = 0.469\n",
      "\n",
      "EPOCH 2 ...\n",
      "Training Loss = 1.192\n",
      "Validation Loss = 0.879\n",
      "Training Accuracy = 0.635\n",
      "Validation Accuracy = 0.722\n",
      "\n",
      "EPOCH 3 ...\n",
      "Training Loss = 0.833\n",
      "Validation Loss = 0.702\n",
      "Training Accuracy = 0.745\n",
      "Validation Accuracy = 0.786\n",
      "\n",
      "EPOCH 4 ...\n",
      "Training Loss = 0.649\n",
      "Validation Loss = 0.535\n",
      "Training Accuracy = 0.801\n",
      "Validation Accuracy = 0.834\n",
      "\n",
      "EPOCH 5 ...\n",
      "Training Loss = 0.539\n",
      "Validation Loss = 0.381\n",
      "Training Accuracy = 0.836\n",
      "Validation Accuracy = 0.890\n",
      "\n",
      "EPOCH 6 ...\n",
      "Training Loss = 0.460\n",
      "Validation Loss = 0.285\n",
      "Training Accuracy = 0.863\n",
      "Validation Accuracy = 0.926\n",
      "\n",
      "EPOCH 7 ...\n",
      "Training Loss = 0.399\n",
      "Validation Loss = 0.235\n",
      "Training Accuracy = 0.882\n",
      "Validation Accuracy = 0.937\n",
      "\n",
      "EPOCH 8 ...\n",
      "Training Loss = 0.368\n",
      "Validation Loss = 0.190\n",
      "Training Accuracy = 0.893\n",
      "Validation Accuracy = 0.952\n",
      "\n",
      "EPOCH 9 ...\n",
      "Training Loss = 0.329\n",
      "Validation Loss = 0.166\n",
      "Training Accuracy = 0.904\n",
      "Validation Accuracy = 0.959\n",
      "\n",
      "EPOCH 10 ...\n",
      "Training Loss = 0.302\n",
      "Validation Loss = 0.147\n",
      "Training Accuracy = 0.914\n",
      "Validation Accuracy = 0.966\n",
      "\n",
      "EPOCH 11 ...\n",
      "Training Loss = 0.276\n",
      "Validation Loss = 0.119\n",
      "Training Accuracy = 0.921\n",
      "Validation Accuracy = 0.971\n",
      "\n",
      "EPOCH 12 ...\n",
      "Training Loss = 0.262\n",
      "Validation Loss = 0.119\n",
      "Training Accuracy = 0.926\n",
      "Validation Accuracy = 0.968\n",
      "\n",
      "EPOCH 13 ...\n",
      "Training Loss = 0.251\n",
      "Validation Loss = 0.106\n",
      "Training Accuracy = 0.931\n",
      "Validation Accuracy = 0.972\n",
      "\n",
      "EPOCH 14 ...\n",
      "Training Loss = 0.232\n",
      "Validation Loss = 0.105\n",
      "Training Accuracy = 0.933\n",
      "Validation Accuracy = 0.971\n",
      "\n",
      "EPOCH 15 ...\n",
      "Training Loss = 0.231\n",
      "Validation Loss = 0.080\n",
      "Training Accuracy = 0.936\n",
      "Validation Accuracy = 0.983\n",
      "\n",
      "EPOCH 16 ...\n",
      "Training Loss = 0.210\n",
      "Validation Loss = 0.065\n",
      "Training Accuracy = 0.942\n",
      "Validation Accuracy = 0.984\n",
      "\n",
      "EPOCH 17 ...\n",
      "Training Loss = 0.203\n",
      "Validation Loss = 0.062\n",
      "Training Accuracy = 0.943\n",
      "Validation Accuracy = 0.985\n",
      "\n",
      "EPOCH 18 ...\n",
      "Training Loss = 0.192\n",
      "Validation Loss = 0.062\n",
      "Training Accuracy = 0.947\n",
      "Validation Accuracy = 0.985\n",
      "\n",
      "EPOCH 19 ...\n",
      "Training Loss = 0.191\n",
      "Validation Loss = 0.055\n",
      "Training Accuracy = 0.947\n",
      "Validation Accuracy = 0.985\n",
      "\n",
      "EPOCH 20 ...\n",
      "Training Loss = 0.185\n",
      "Validation Loss = 0.072\n",
      "Training Accuracy = 0.949\n",
      "Validation Accuracy = 0.981\n",
      "\n",
      "EPOCH 21 ...\n",
      "Training Loss = 0.181\n",
      "Validation Loss = 0.054\n",
      "Training Accuracy = 0.951\n",
      "Validation Accuracy = 0.986\n",
      "\n",
      "EPOCH 22 ...\n",
      "Training Loss = 0.172\n",
      "Validation Loss = 0.055\n",
      "Training Accuracy = 0.953\n",
      "Validation Accuracy = 0.986\n",
      "\n",
      "EPOCH 23 ...\n",
      "Training Loss = 0.169\n",
      "Validation Loss = 0.044\n",
      "Training Accuracy = 0.954\n",
      "Validation Accuracy = 0.989\n",
      "\n",
      "EPOCH 24 ...\n",
      "Training Loss = 0.160\n",
      "Validation Loss = 0.041\n",
      "Training Accuracy = 0.956\n",
      "Validation Accuracy = 0.990\n",
      "\n",
      "EPOCH 25 ...\n",
      "Training Loss = 0.159\n",
      "Validation Loss = 0.057\n",
      "Training Accuracy = 0.957\n",
      "Validation Accuracy = 0.984\n",
      "\n",
      "EPOCH 26 ...\n",
      "Training Loss = 0.155\n",
      "Validation Loss = 0.038\n",
      "Training Accuracy = 0.956\n",
      "Validation Accuracy = 0.992\n",
      "\n",
      "EPOCH 27 ...\n",
      "Training Loss = 0.151\n",
      "Validation Loss = 0.046\n",
      "Training Accuracy = 0.959\n",
      "Validation Accuracy = 0.989\n",
      "\n",
      "EPOCH 28 ...\n",
      "Training Loss = 0.148\n",
      "Validation Loss = 0.040\n",
      "Training Accuracy = 0.960\n",
      "Validation Accuracy = 0.990\n",
      "\n",
      "EPOCH 29 ...\n",
      "Training Loss = 0.147\n",
      "Validation Loss = 0.032\n",
      "Training Accuracy = 0.960\n",
      "Validation Accuracy = 0.992\n",
      "\n",
      "EPOCH 30 ...\n",
      "Training Loss = 0.142\n",
      "Validation Loss = 0.036\n",
      "Training Accuracy = 0.962\n",
      "Validation Accuracy = 0.992\n",
      "\n",
      "Model saved\n"
     ]
    }
   ],
   "source": [
    "BATCH_SIZE = 256\n",
    "EPOCHS = 30\n",
    "softmax = tf.nn.softmax(logits)\n",
    "pred = tf.nn.top_k(softmax, 5)\n",
    "\n",
    "with tf.Session() as sess:\n",
    "    sess.run(tf.global_variables_initializer())\n",
    "    num_examples = len(X_train)\n",
    "#    saver.restore(sess, tf.train.latest_checkpoint('.'))\n",
    "   \n",
    "    print(\"Training with new data and activating dropoffs...\")\n",
    "   \n",
    "    tl = []\n",
    "    ta = []\n",
    "    vl = [] \n",
    "    va = [] \n",
    "    for i in range(EPOCHS):\n",
    "        \n",
    "        X_train, y_train = shuffle(X_train, y_train)\n",
    "        loss_p_epoch = 0.0         # training loss per epoch\n",
    "        acc_p_epoch = 0.0          # training accuracy per epoch\n",
    "        total_batches = int( num_examples / BATCH_SIZE )\n",
    "        for offset in range(0, num_examples, BATCH_SIZE):\n",
    "            end = offset + BATCH_SIZE\n",
    "            batch_x, batch_y = X_train[offset:end], y_train[offset:end]\n",
    "            _, a,c,summary = sess.run([training_operation , accuracy_operation, loss_operation, merged_summary_op], feed_dict={x: batch_x, y: batch_y, keep_prob: 0.5})\n",
    "            \n",
    "            loss_p_epoch += c \n",
    "            acc_p_epoch  += (a * BATCH_SIZE)\n",
    "   \n",
    "        validation_accuracy, valid_loss,_ = evaluate(X_valid, y_valid)\n",
    "    \n",
    "        if (i % 1 == 0):\n",
    "            print(\"EPOCH {} ...\".format(i+1))\n",
    "            print(\"Training Loss = {:.3f}\".format(loss_p_epoch/total_batches))\n",
    "            print(\"Validation Loss = {:.3f}\".format(valid_loss))\n",
    "            print(\"Training Accuracy = {:.3f}\".format(acc_p_epoch/num_examples))\n",
    "            print(\"Validation Accuracy = {:.3f}\".format(validation_accuracy))\n",
    "            print()\n",
    "        tl.append(loss_p_epoch/total_batches)\n",
    "        vl.append(valid_loss)\n",
    "        ta.append(acc_p_epoch/num_examples)\n",
    "        va.append(validation_accuracy)\n",
    "    \n",
    "    np.savez(\"res_rn\",tl,vl,ta,va,EPOCHS)\n",
    "    saver.save(sess, './new_dataa')\n",
    "#    print(\"Final Validation Accuracy = {:.3f}\".format(validation_accuracy))\n",
    "    print(\"Model saved\")"
   ]
  },
  {
   "cell_type": "markdown",
   "metadata": {
    "deletable": true,
    "editable": true
   },
   "source": [
    "## Cell 5a:"
   ]
  },
  {
   "cell_type": "code",
   "execution_count": 47,
   "metadata": {
    "collapsed": false,
    "deletable": true,
    "editable": true
   },
   "outputs": [
    {
     "data": {
      "text/plain": [
       "<matplotlib.figure.Figure at 0x7fb6ca058588>"
      ]
     },
     "metadata": {},
     "output_type": "display_data"
    },
    {
     "data": {
      "text/plain": [
       "<matplotlib.legend.Legend at 0x7fb5e413dac8>"
      ]
     },
     "execution_count": 47,
     "metadata": {},
     "output_type": "execute_result"
    },
    {
     "data": {
      "image/png": "[encoded data removed]",
      "text/plain": [
       "<matplotlib.figure.Figure at 0x7fb5f4015390>"
      ]
     },
     "metadata": {},
     "output_type": "display_data"
    },
    {
     "data": {
      "image/png": "[encoded data removed]",
      "text/plain": [
       "<matplotlib.figure.Figure at 0x7fb5f403b7f0>"
      ]
     },
     "metadata": {},
     "output_type": "display_data"
    }
   ],
   "source": [
    "plt.figure()\n",
    "plt.show()\n",
    "plt.plot(tl, label='Training Loss')\n",
    "plt.plot(vl, label='Validation Loss')\n",
    "plt.legend(loc='upper right')\n",
    "plt.grid()\n",
    "\n",
    "fig = plt.figure()                                                               \n",
    "ax = fig.add_subplot(1,1,1)                                                      \n",
    "\n",
    "# major ticks and minor ticks settings                                     \n",
    "major_ticks = np.arange(0, 1, .05)                                              \n",
    "minor_ticks = np.arange(0, 1, .05)                                                                                      \n",
    "ax.set_yticks(major_ticks)                                                       \n",
    "ax.set_yticks(minor_ticks, minor=True)                                           \n",
    "\n",
    "# and a corresponding grid                                                       \n",
    "\n",
    "ax.grid(which='both')                                                            \n",
    "\n",
    "# or if you want differnet settings for the grids:                               \n",
    "ax.grid(which='minor', alpha=0.2)                                                \n",
    "ax.grid(which='major', alpha=0.5)\n",
    "ax.plot(ta, label='Training Loss')\n",
    "ax.plot(va, label='Validation Loss')\n",
    "ax.legend(loc='lower right')"
   ]
  },
  {
   "cell_type": "markdown",
   "metadata": {
    "deletable": true,
    "editable": true
   },
   "source": [
    "## Cell 5b:"
   ]
  },
  {
   "cell_type": "code",
   "execution_count": 243,
   "metadata": {
    "collapsed": false,
    "deletable": true,
    "editable": true
   },
   "outputs": [
    {
     "name": "stdout",
     "output_type": "stream",
     "text": [
      "Test Accuracy after training on augmented dataset= 0.961\n"
     ]
    }
   ],
   "source": [
    "with tf.Session() as sess:\n",
    "    \n",
    "    \n",
    "    saver.restore(sess, './new_dataa' )\n",
    "    test_accuracy,m,_ = evaluate(X_test, y_test)\n",
    "    print(\"Test Accuracy after training on augmented dataset= {:.3f}\".format(test_accuracy))\n"
   ]
  },
  {
   "cell_type": "markdown",
   "metadata": {
    "deletable": true,
    "editable": true
   },
   "source": [
    "## Cell 6:"
   ]
  },
  {
   "cell_type": "code",
   "execution_count": 121,
   "metadata": {
    "collapsed": false,
    "deletable": true,
    "editable": true
   },
   "outputs": [
    {
     "name": "stdout",
     "output_type": "stream",
     "text": [
      "Imported New images\n"
     ]
    },
    {
     "data": {
      "image/png": "[encoded data removed]",
      "text/plain": [
       "<matplotlib.figure.Figure at 0x7fb6c9368e48>"
      ]
     },
     "metadata": {},
     "output_type": "display_data"
    },
    {
     "data": {
      "image/png": "[encoded data removed]",
      "text/plain": [
       "<matplotlib.figure.Figure at 0x7fb6ca168048>"
      ]
     },
     "metadata": {},
     "output_type": "display_data"
    },
    {
     "data": {
      "image/png": "[encoded data removed]",
      "text/plain": [
       "<matplotlib.figure.Figure at 0x7fb6c9ffe048>"
      ]
     },
     "metadata": {},
     "output_type": "display_data"
    },
    {
     "data": {
      "image/png": "[encoded data removed]",
      "text/plain": [
       "<matplotlib.figure.Figure at 0x7fb6c9f6bd68>"
      ]
     },
     "metadata": {},
     "output_type": "display_data"
    },
    {
     "data": {
      "image/png": "[encoded data removed]",
      "text/plain": [
       "<matplotlib.figure.Figure at 0x7fb6c9f082e8>"
      ]
     },
     "metadata": {},
     "output_type": "display_data"
    }
   ],
   "source": [
    "import matplotlib.gridspec as gridspec\n",
    "import cv2\n",
    "from glob import glob\n",
    "from PIL import Image \n",
    "\n",
    "dest=[]\n",
    "img_mask = 'images2/*.jpg'\n",
    "img_names = glob(img_mask)\n",
    "\n",
    "\n",
    "\n",
    "\n",
    "for fn in img_names:\n",
    "    \n",
    "    img1 = cv2.imread(fn)\n",
    "\n",
    "    img =  cv2.resize(img1, (32,32))\n",
    "   \n",
    "    dest.append(cv2.cvtColor(img,cv2.COLOR_BGR2RGB))\n",
    "\n",
    "\n",
    "labels = [8,14,31,1,13]\n",
    "\n",
    "\n",
    "\n",
    "\n",
    "nlabels= np.int32(labels)\n",
    "images= np.copy(dest)\n",
    "\n",
    "for q in range(len(dest)):\n",
    "    images[q][:,:,0] = (dest[q][:,:,0] - 128)/128.\n",
    "    images[q][:,:,1] = (dest[q][:,:,1] - 128)/128.\n",
    "    images[q][:,:,2] = (dest[q][:,:,2] - 128)/128.\n",
    "\n",
    "nimages = np.float32(images)\n",
    "\n",
    "print(\"Imported New images\")\n",
    "\n",
    "\n",
    "\n",
    "for i in range(5):\n",
    "    plt.figure(i)\n",
    "    plt.imshow(nimages[i].squeeze())\n",
    "    plt.axis('off')\n",
    "plt.show()\n"
   ]
  },
  {
   "cell_type": "markdown",
   "metadata": {
    "deletable": true,
    "editable": true
   },
   "source": [
    "## Cell 6a: Calculating individual probabilities of prediction and overall accuracy for new images\n"
   ]
  },
  {
   "cell_type": "code",
   "execution_count": 235,
   "metadata": {
    "collapsed": false,
    "deletable": true,
    "editable": true
   },
   "outputs": [
    {
     "name": "stdout",
     "output_type": "stream",
     "text": [
      "Test Accuracy after training on new image dataset= 0.000\n",
      "[[  6.78633869e-01   1.72174767e-01   5.66593036e-02   3.22436839e-02\n",
      "    1.78901143e-02]\n",
      " [  1.61391765e-01   1.57363921e-01   1.54916242e-01   9.32914764e-02\n",
      "    6.04805648e-02]\n",
      " [  5.22530496e-01   4.17559206e-01   2.96607055e-02   1.57969557e-02\n",
      "    9.62205697e-03]\n",
      " [  4.84996259e-01   3.09177727e-01   7.67066330e-02   7.53336623e-02\n",
      "    1.44790364e-02]\n",
      " [  8.07226181e-01   1.92117497e-01   3.44052212e-04   1.12481059e-04\n",
      "    8.80108200e-05]]\n",
      "[[ 8  0  1  4 14]\n",
      " [ 1 14 32  6  8]\n",
      " [31 20 25 30 23]\n",
      " [ 1  0  4 18 14]\n",
      " [ 1  4  2 12 18]] \n",
      " \n",
      "\n",
      "Test Accuracy after training on new image dataset= 0.600\n"
     ]
    }
   ],
   "source": [
    "\n",
    "init = tf.global_variables_initializer()\n",
    "\n",
    "with tf.Session() as sess2:\n",
    "    #\n",
    "    saver.restore(sess2, './new_dataa' )\n",
    "    \n",
    "    test_accuracy,m,re = evaluate(nimages, nlabels)\n",
    "    print(\"Test Accuracy after training on new image dataset= {:.3f}\".format(test_accuracy))\n",
    "    \n",
    "    result = sess2.run(pred, feed_dict={x: np.array(nimages),y: nlabels,keep_prob: 1.})\n",
    "    predictions  = result.values\n",
    "    predictionIndicies  = result.indices\n",
    "    print(predictions )\n",
    "    print(  predictionIndicies,\"\\n \\n\")\n",
    "\n",
    "    \n",
    "# Another method of prinitng lsoft probs   \n",
    "#     predicted_logits = sess2.run(logits, feed_dict={x: np.array(nimages), y: nlabels, keep_prob:1.})\n",
    "#     predicted_labels = np.argmax(predicted_logits, axis=1)\n",
    "#     print(predicted_labels)\n",
    "    \n",
    "    \n",
    "        \n",
    "    test_accuracy,m,re = evaluate(nimages, nlabels)\n",
    "    print(\"Test Accuracy after training on new image dataset= {:.3f}\".format(test_accuracy))\n",
    "#     labels = [8,14,31,1,13]"
   ]
  },
  {
   "cell_type": "markdown",
   "metadata": {},
   "source": [
    "## Cell 6b: Collecting Labels from CSV file\n"
   ]
  },
  {
   "cell_type": "code",
   "execution_count": 236,
   "metadata": {
    "collapsed": false
   },
   "outputs": [],
   "source": [
    "import csv\n",
    "filename = './signnames.csv'\n",
    "\n",
    "num = []\n",
    "name = []\n",
    "\n",
    "with open(filename) as f:\n",
    "    next(f)\n",
    "    reader = csv.reader(f)\n",
    "    for row in reader:\n",
    "        num.append(row[0])\n",
    "        name.append(row[1])\n",
    "        \n",
    "list_labels = np.array(num,dtype = int)        "
   ]
  },
  {
   "cell_type": "markdown",
   "metadata": {},
   "source": [
    "## Cell 6b: Plotting results of predictions"
   ]
  },
  {
   "cell_type": "code",
   "execution_count": 239,
   "metadata": {
    "collapsed": false
   },
   "outputs": [
    {
     "data": {
      "image/png": "[encoded data removed]",
      "text/plain": [
       "<matplotlib.figure.Figure at 0x7fb6c6b48a58>"
      ]
     },
     "metadata": {},
     "output_type": "display_data"
    },
    {
     "data": {
      "image/png": "[encoded data removed]",
      "text/plain": [
       "<matplotlib.figure.Figure at 0x7fb6c710ba90>"
      ]
     },
     "metadata": {},
     "output_type": "display_data"
    },
    {
     "data": {
      "image/png": "[encoded data removed]",
      "text/plain": [
       "<matplotlib.figure.Figure at 0x7fb6c7242b00>"
      ]
     },
     "metadata": {},
     "output_type": "display_data"
    },
    {
     "data": {
      "image/png": "[encoded data removed]",
      "text/plain": [
       "<matplotlib.figure.Figure at 0x7fb6c6817ba8>"
      ]
     },
     "metadata": {},
     "output_type": "display_data"
    },
    {
     "data": {
      "image/png": "[encoded data removed]",
      "text/plain": [
       "<matplotlib.figure.Figure at 0x7fb6c69dfd68>"
      ]
     },
     "metadata": {},
     "output_type": "display_data"
    }
   ],
   "source": [
    "for m in range(len(nlabels)):\n",
    "\n",
    "\n",
    "    xvals = []\n",
    "\n",
    "\n",
    "    plt.figure(figsize=(16,3))\n",
    "    gs = gridspec.GridSpec(1, 3,width_ratios=[2,19,2])\n",
    "\n",
    "    # Plotting original\n",
    "    ax1 = plt.subplot(gs[0])\n",
    "    ax1.imshow(dest[m].squeeze())\n",
    "    ax1.set_title(\"Original\")\n",
    "    \n",
    "    # Plotting probabilities\n",
    "    ax2 = plt.subplot(gs[1])\n",
    "    ax2.bar(range(len(predictions[0])),predictions[0],align= \"center\")\n",
    "\n",
    "\n",
    "    for r in range(5):            # This \"5\" actually should be top N max probabilities \n",
    "        vals =  predictionIndicies[m,r]\n",
    "       # print(vals)\n",
    "        xvals.append(name[vals])\n",
    "\n",
    "\n",
    "    ax2.set_xticklabels([0]+xvals)\n",
    "    \n",
    "    # Plotting what was actually detected using a sample image from training data\n",
    "    ax3 = plt.subplot(gs[2])\n",
    "    \n",
    "    w = np.where(y_train == predictionIndicies[m,0])[0][1]    \n",
    "    ax3.imshow(X_train[w].squeeze())\n",
    "    ax3.set_title(\"Detected\")\n",
    "\n",
    "\n",
    "\n",
    "\n",
    "\n"
   ]
  },
  {
   "cell_type": "markdown",
   "metadata": {
    "deletable": true,
    "editable": true
   },
   "source": [
    "## Cell 7a: Getting feature maps from the Convolutional network"
   ]
  },
  {
   "cell_type": "code",
   "execution_count": 20,
   "metadata": {
    "collapsed": true,
    "deletable": true,
    "editable": true
   },
   "outputs": [],
   "source": [
    "### Visualize your network's feature maps here.\n",
    "\n",
    "\n",
    "# image_input: the test image being fed into the network to produce the feature maps\n",
    "# tf_activation: should be a tf variable name used during your training procedure that represents the calculated state of a specific weight layer\n",
    "# activation_min/max: can be used to view the activation contrast in more detail, by default matplot sets min and max to the actual min and max values of the output\n",
    "# plt_num: used to plot out multiple different weight feature map sets on the same block, just extend the plt number for each new feature map entry\n",
    "\n",
    "def outputFeatureMap(image_input, tf_activation, activation_min=-1, activation_max=-1 ,plt_num=1):\n",
    "    # Here make sure to preprocess your image_input in a way your network expects\n",
    "    # with size, normalization, ect if needed\n",
    "    # image_input =\n",
    "    # Note: x should be the same name as your network's tensorflow data placeholder variable\n",
    "    # If you get an error tf_activation is not defined it maybe having trouble accessing the variable from inside a function\n",
    "    activation = tf_activation.eval(session= tf.get_default_session(),feed_dict={x : image_input})\n",
    "    featuremaps = activation.shape[3]\n",
    "    plt.figure(plt_num, figsize=(25,25))\n",
    "    for featuremap in range(featuremaps):\n",
    "        plt.subplot(6,8, featuremap+1) # sets the number of feature maps to show on each row and column\n",
    "        plt.title('FeatureMap ' + str(featuremap)) # displays the feature map number\n",
    "        if activation_min != -1 & activation_max != -1:\n",
    "            plt.imshow(activation[0,:,:, featuremap], interpolation=\"nearest\", vmin =activation_min, vmax=activation_max, cmap=\"gray\")\n",
    "        elif activation_max != -1:\n",
    "            plt.imshow(activation[0,:,:, featuremap], interpolation=\"nearest\", vmax=activation_max, cmap=\"gray\")\n",
    "        elif activation_min !=-1:\n",
    "            plt.imshow(activation[0,:,:, featuremap], interpolation=\"nearest\", vmin=activation_min, cmap=\"gray\")\n",
    "        else:\n",
    "            plt.imshow(activation[0,:,:, featuremap], interpolation=\"nearest\", cmap=\"gray\")\n",
    "    plt.show()\n",
    "    print(\"\\n \\n\")"
   ]
  },
  {
   "cell_type": "markdown",
   "metadata": {
    "deletable": true,
    "editable": true
   },
   "source": [
    "## Cell 7b: Plotting results for from the two convolutional layers after Relu activations"
   ]
  },
  {
   "cell_type": "code",
   "execution_count": 241,
   "metadata": {
    "collapsed": false,
    "deletable": true,
    "editable": true
   },
   "outputs": [
    {
     "name": "stdout",
     "output_type": "stream",
     "text": [
      "Initial Image \n",
      " \n",
      " \n",
      "\n"
     ]
    },
    {
     "data": {
      "image/png": "[encoded data removed]",
      "text/plain": [
       "<matplotlib.figure.Figure at 0x7fb6c8665470>"
      ]
     },
     "metadata": {},
     "output_type": "display_data"
    },
    {
     "name": "stdout",
     "output_type": "stream",
     "text": [
      "Normlized Image \n",
      " \n",
      " \n",
      "\n"
     ]
    },
    {
     "data": {
      "image/png": "[encoded data removed]",
      "text/plain": [
       "<matplotlib.figure.Figure at 0x7fb6c6c15438>"
      ]
     },
     "metadata": {},
     "output_type": "display_data"
    },
    {
     "name": "stdout",
     "output_type": "stream",
     "text": [
      "\n",
      " \n",
      "\n"
     ]
    },
    {
     "data": {
      "image/png": "[encoded data removed]",
      "text/plain": [
       "<matplotlib.figure.Figure at 0x7fb6c6bb0710>"
      ]
     },
     "metadata": {},
     "output_type": "display_data"
    },
    {
     "name": "stdout",
     "output_type": "stream",
     "text": [
      "\n",
      " \n",
      "\n"
     ]
    }
   ],
   "source": [
    "\n",
    "# Get the indexed value from above\n",
    "image = X_train[index].squeeze()\n",
    "print(\"Initial Image \\n \\n \\n\")\n",
    "plt.figure(1)\n",
    "plt.imshow(image)\n",
    "z = np.resize(image,(1,32,32,3))\n",
    "             \n",
    "plt.show()\n",
    "\n",
    "print(\"Normlized Image \\n \\n \\n\")\n",
    "\n",
    "init = tf.global_variables_initializer()\n",
    "#sess2 = tf.get_default_session()\n",
    "\n",
    "with tf.Session() as sess2:\n",
    "    sess2.run(init)\n",
    "    saver.restore(sess2, './new_dataa' )\n",
    "\n",
    "    my_tensor = sess2.graph.get_tensor_by_name('con1r:0')\n",
    "    outputFeatureMap(z,my_tensor,-1,2)\n",
    "\n",
    "    my_tensor = sess2.graph.get_tensor_by_name('con2r:0')\n",
    "    outputFeatureMap(z,my_tensor,-1,3)\n",
    "    \n",
    "    "
   ]
  },
  {
   "cell_type": "markdown",
   "metadata": {
    "deletable": true,
    "editable": true
   },
   "source": [
    "### Question 9\n",
    "\n",
    "Discuss how you used the visual output of your trained network's feature maps to show that it had learned to look for interesting characteristics in traffic sign images\n"
   ]
  },
  {
   "cell_type": "markdown",
   "metadata": {
    "deletable": true,
    "editable": true
   },
   "source": [
    "**Answer:** The code for visualizing layers of the CNN is shown above . First figure shows the input to layer 1 of the \n",
    "CNN while figures 2 and 3  are the outputs from the convolutions layers having depths of 6 and 16 each. Here it can be seen that the first layer can detect different edges in the figure while the batch  of filters in the next layer collect more features about the yield sign, and pass it onto the next layers which flattens the information and eventually leads to image detection. One observation i have made is that the first convolution layer does well in detecting edges. Hence, grayscaling in pre-processing would  not have been that beneficial as the convolutional network is capable of doing it itself. Additional color information which is taken from RGB layers will help gather more information towards correct prediction. Hence, not doing grayscaling does not turn out to be harmful at the end."
   ]
  },
  {
   "cell_type": "markdown",
   "metadata": {
    "deletable": true,
    "editable": true
   },
   "source": [
    "> **Note**: Once you have completed all of the code implementations and successfully answered each question above, you may finalize your work by exporting the iPython Notebook as an HTML document. You can do this by using the menu above and navigating to  \\n\",\n",
    "    \"**File -> Download as -> HTML (.html)**. Include the finished document along with this notebook as your submission."
   ]
  },
  {
   "cell_type": "markdown",
   "metadata": {
    "deletable": true,
    "editable": true
   },
   "source": [
    "### Project Writeup\n",
    "\n",
    "Attached!"
   ]
  }
 ],
 "metadata": {
  "anaconda-cloud": {},
  "kernelspec": {
   "display_name": "Python 3",
   "language": "python",
   "name": "python3"
  },
  "language_info": {
   "codemirror_mode": {
    "name": "ipython",
    "version": 3
   },
   "file_extension": ".py",
   "mimetype": "text/x-python",
   "name": "python",
   "nbconvert_exporter": "python",
   "pygments_lexer": "ipython3",
   "version": "3.5.2"
  },
  "widgets": {
   "state": {},
   "version": "1.1.2"
  }
 },
 "nbformat": 4,
 "nbformat_minor": 1
}
